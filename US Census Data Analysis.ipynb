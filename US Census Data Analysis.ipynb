{
 "cells": [
  {
   "cell_type": "code",
   "execution_count": 1,
   "metadata": {
    "collapsed": false
   },
   "outputs": [],
   "source": [
    "import pandas as pd\n",
    "from sklearn import model_selection\n",
    "from sklearn import linear_model\n",
    "from sklearn.ensemble import RandomForestClassifier\n",
    "from sklearn.naive_bayes import GaussianNB\n",
    "from sklearn import metrics"
   ]
  },
  {
   "cell_type": "code",
   "execution_count": 2,
   "metadata": {
    "collapsed": true
   },
   "outputs": [],
   "source": [
    "#define the data path\n",
    "Learn_Data_Path = './US_Census_Data/census_income_learn.csv'\n",
    "Test_Data_Path  = './US_Census_Data/census_income_test.csv'"
   ]
  },
  {
   "cell_type": "code",
   "execution_count": 3,
   "metadata": {
    "collapsed": false
   },
   "outputs": [],
   "source": [
    "Train_Data_Set = pd.read_csv(Learn_Data_Path,sep=',', header=None, index_col=False)\n",
    "Test_Data_Set = pd.read_csv(Test_Data_Path,sep=',', header=None, index_col=False)"
   ]
  },
  {
   "cell_type": "code",
   "execution_count": 4,
   "metadata": {
    "collapsed": false
   },
   "outputs": [
    {
     "data": {
      "text/html": [
       "<div>\n",
       "<table border=\"1\" class=\"dataframe\">\n",
       "  <thead>\n",
       "    <tr style=\"text-align: right;\">\n",
       "      <th></th>\n",
       "      <th>0</th>\n",
       "      <th>1</th>\n",
       "      <th>2</th>\n",
       "      <th>3</th>\n",
       "      <th>4</th>\n",
       "      <th>5</th>\n",
       "      <th>6</th>\n",
       "      <th>7</th>\n",
       "      <th>8</th>\n",
       "      <th>9</th>\n",
       "      <th>...</th>\n",
       "      <th>32</th>\n",
       "      <th>33</th>\n",
       "      <th>34</th>\n",
       "      <th>35</th>\n",
       "      <th>36</th>\n",
       "      <th>37</th>\n",
       "      <th>38</th>\n",
       "      <th>39</th>\n",
       "      <th>40</th>\n",
       "      <th>41</th>\n",
       "    </tr>\n",
       "  </thead>\n",
       "  <tbody>\n",
       "    <tr>\n",
       "      <th>0</th>\n",
       "      <td>73</td>\n",
       "      <td>Not in universe</td>\n",
       "      <td>0</td>\n",
       "      <td>0</td>\n",
       "      <td>High school graduate</td>\n",
       "      <td>0</td>\n",
       "      <td>Not in universe</td>\n",
       "      <td>Widowed</td>\n",
       "      <td>Not in universe or children</td>\n",
       "      <td>Not in universe</td>\n",
       "      <td>...</td>\n",
       "      <td>United-States</td>\n",
       "      <td>United-States</td>\n",
       "      <td>United-States</td>\n",
       "      <td>Native- Born in the United States</td>\n",
       "      <td>0</td>\n",
       "      <td>Not in universe</td>\n",
       "      <td>2</td>\n",
       "      <td>0</td>\n",
       "      <td>95</td>\n",
       "      <td>- 50000.</td>\n",
       "    </tr>\n",
       "    <tr>\n",
       "      <th>1</th>\n",
       "      <td>58</td>\n",
       "      <td>Self-employed-not incorporated</td>\n",
       "      <td>4</td>\n",
       "      <td>34</td>\n",
       "      <td>Some college but no degree</td>\n",
       "      <td>0</td>\n",
       "      <td>Not in universe</td>\n",
       "      <td>Divorced</td>\n",
       "      <td>Construction</td>\n",
       "      <td>Precision production craft &amp; repair</td>\n",
       "      <td>...</td>\n",
       "      <td>United-States</td>\n",
       "      <td>United-States</td>\n",
       "      <td>United-States</td>\n",
       "      <td>Native- Born in the United States</td>\n",
       "      <td>0</td>\n",
       "      <td>Not in universe</td>\n",
       "      <td>2</td>\n",
       "      <td>52</td>\n",
       "      <td>94</td>\n",
       "      <td>- 50000.</td>\n",
       "    </tr>\n",
       "  </tbody>\n",
       "</table>\n",
       "<p>2 rows × 42 columns</p>\n",
       "</div>"
      ],
      "text/plain": [
       "   0                                1   2   3                            4   \\\n",
       "0  73                  Not in universe   0   0         High school graduate   \n",
       "1  58   Self-employed-not incorporated   4  34   Some college but no degree   \n",
       "\n",
       "   5                 6          7                             8   \\\n",
       "0   0   Not in universe    Widowed   Not in universe or children   \n",
       "1   0   Not in universe   Divorced                  Construction   \n",
       "\n",
       "                                     9     ...                  32  \\\n",
       "0                       Not in universe    ...       United-States   \n",
       "1   Precision production craft & repair    ...       United-States   \n",
       "\n",
       "               33              34                                  35 36  \\\n",
       "0   United-States   United-States   Native- Born in the United States  0   \n",
       "1   United-States   United-States   Native- Born in the United States  0   \n",
       "\n",
       "                 37  38  39  40         41  \n",
       "0   Not in universe   2   0  95   - 50000.  \n",
       "1   Not in universe   2  52  94   - 50000.  \n",
       "\n",
       "[2 rows x 42 columns]"
      ]
     },
     "execution_count": 4,
     "metadata": {},
     "output_type": "execute_result"
    }
   ],
   "source": [
    "Train_Data_Set.head(2)"
   ]
  },
  {
   "cell_type": "code",
   "execution_count": 5,
   "metadata": {
    "collapsed": false
   },
   "outputs": [
    {
     "data": {
      "text/html": [
       "<div>\n",
       "<table border=\"1\" class=\"dataframe\">\n",
       "  <thead>\n",
       "    <tr style=\"text-align: right;\">\n",
       "      <th></th>\n",
       "      <th>0</th>\n",
       "      <th>1</th>\n",
       "      <th>2</th>\n",
       "      <th>3</th>\n",
       "      <th>4</th>\n",
       "      <th>5</th>\n",
       "      <th>6</th>\n",
       "      <th>7</th>\n",
       "      <th>8</th>\n",
       "      <th>9</th>\n",
       "      <th>...</th>\n",
       "      <th>32</th>\n",
       "      <th>33</th>\n",
       "      <th>34</th>\n",
       "      <th>35</th>\n",
       "      <th>36</th>\n",
       "      <th>37</th>\n",
       "      <th>38</th>\n",
       "      <th>39</th>\n",
       "      <th>40</th>\n",
       "      <th>41</th>\n",
       "    </tr>\n",
       "  </thead>\n",
       "  <tbody>\n",
       "    <tr>\n",
       "      <th>0</th>\n",
       "      <td>38</td>\n",
       "      <td>Private</td>\n",
       "      <td>6</td>\n",
       "      <td>36</td>\n",
       "      <td>1st 2nd 3rd or 4th grade</td>\n",
       "      <td>0</td>\n",
       "      <td>Not in universe</td>\n",
       "      <td>Married-civilian spouse present</td>\n",
       "      <td>Manufacturing-durable goods</td>\n",
       "      <td>Machine operators assmblrs &amp; inspctrs</td>\n",
       "      <td>...</td>\n",
       "      <td>Mexico</td>\n",
       "      <td>Mexico</td>\n",
       "      <td>Mexico</td>\n",
       "      <td>Foreign born- Not a citizen of U S</td>\n",
       "      <td>0</td>\n",
       "      <td>Not in universe</td>\n",
       "      <td>2</td>\n",
       "      <td>12</td>\n",
       "      <td>95</td>\n",
       "      <td>- 50000.</td>\n",
       "    </tr>\n",
       "    <tr>\n",
       "      <th>1</th>\n",
       "      <td>44</td>\n",
       "      <td>Self-employed-not incorporated</td>\n",
       "      <td>37</td>\n",
       "      <td>12</td>\n",
       "      <td>Associates degree-occup /vocational</td>\n",
       "      <td>0</td>\n",
       "      <td>Not in universe</td>\n",
       "      <td>Married-civilian spouse present</td>\n",
       "      <td>Business and repair services</td>\n",
       "      <td>Professional specialty</td>\n",
       "      <td>...</td>\n",
       "      <td>United-States</td>\n",
       "      <td>United-States</td>\n",
       "      <td>United-States</td>\n",
       "      <td>Native- Born in the United States</td>\n",
       "      <td>0</td>\n",
       "      <td>Not in universe</td>\n",
       "      <td>2</td>\n",
       "      <td>26</td>\n",
       "      <td>95</td>\n",
       "      <td>- 50000.</td>\n",
       "    </tr>\n",
       "  </tbody>\n",
       "</table>\n",
       "<p>2 rows × 42 columns</p>\n",
       "</div>"
      ],
      "text/plain": [
       "   0                                1   2   3   \\\n",
       "0  38                          Private   6  36   \n",
       "1  44   Self-employed-not incorporated  37  12   \n",
       "\n",
       "                                     4   5                 6   \\\n",
       "0              1st 2nd 3rd or 4th grade   0   Not in universe   \n",
       "1   Associates degree-occup /vocational   0   Not in universe   \n",
       "\n",
       "                                 7                              8   \\\n",
       "0   Married-civilian spouse present    Manufacturing-durable goods   \n",
       "1   Married-civilian spouse present   Business and repair services   \n",
       "\n",
       "                                       9     ...                  32  \\\n",
       "0   Machine operators assmblrs & inspctrs    ...              Mexico   \n",
       "1                  Professional specialty    ...       United-States   \n",
       "\n",
       "               33              34                                    35 36  \\\n",
       "0          Mexico          Mexico   Foreign born- Not a citizen of U S   0   \n",
       "1   United-States   United-States     Native- Born in the United States  0   \n",
       "\n",
       "                 37  38  39  40         41  \n",
       "0   Not in universe   2  12  95   - 50000.  \n",
       "1   Not in universe   2  26  95   - 50000.  \n",
       "\n",
       "[2 rows x 42 columns]"
      ]
     },
     "execution_count": 5,
     "metadata": {},
     "output_type": "execute_result"
    }
   ],
   "source": [
    "Test_Data_Set.head(2)"
   ]
  },
  {
   "cell_type": "code",
   "execution_count": 6,
   "metadata": {
    "collapsed": false
   },
   "outputs": [],
   "source": [
    "# Naming the columns :\n",
    "columns = ['AAGE', 'ACLSWKR', 'ADTIND', 'ADTOCC', 'AHGA', 'AHRSPAY',         \n",
    "           'AHSCOL', 'AMARITL', 'AMJIND', 'AMJOCC', 'ARACE', 'AREORGN',      \n",
    "           'ASEX', 'AUNMEM', 'AUNTYPE', 'AWKSTAT', 'CAPGAIN', 'CAPLOSS',     \n",
    "           'DIVVAL', 'FILESTAT', 'GRINREG', 'GRINST', 'HHDFMX', 'HHDREL',    \n",
    "           'MARSUPWT', 'MIGMTR1', 'MIGMTR3', 'MIGMTR4', 'MIGSAME', 'MIGSUN', \n",
    "           'NOEMP', 'PARENT', 'PEFNTVTY', 'PEMNTVTY', 'PENATVTY', 'PRCITSHP',\n",
    "           'SEOTR', 'VETQVA', 'VETYN', 'WKSWORK', 'YEAR', 'WAGE']\n"
   ]
  },
  {
   "cell_type": "code",
   "execution_count": 7,
   "metadata": {
    "collapsed": false
   },
   "outputs": [],
   "source": [
    "Train_Data_Set.columns=columns\n",
    "\n",
    "Test_Data_Set.columns=columns"
   ]
  },
  {
   "cell_type": "code",
   "execution_count": 8,
   "metadata": {
    "collapsed": false
   },
   "outputs": [
    {
     "data": {
      "text/html": [
       "<div>\n",
       "<table border=\"1\" class=\"dataframe\">\n",
       "  <thead>\n",
       "    <tr style=\"text-align: right;\">\n",
       "      <th></th>\n",
       "      <th>AAGE</th>\n",
       "      <th>ACLSWKR</th>\n",
       "      <th>ADTIND</th>\n",
       "      <th>ADTOCC</th>\n",
       "      <th>AHGA</th>\n",
       "      <th>AHRSPAY</th>\n",
       "      <th>AHSCOL</th>\n",
       "      <th>AMARITL</th>\n",
       "      <th>AMJIND</th>\n",
       "      <th>AMJOCC</th>\n",
       "      <th>...</th>\n",
       "      <th>PEFNTVTY</th>\n",
       "      <th>PEMNTVTY</th>\n",
       "      <th>PENATVTY</th>\n",
       "      <th>PRCITSHP</th>\n",
       "      <th>SEOTR</th>\n",
       "      <th>VETQVA</th>\n",
       "      <th>VETYN</th>\n",
       "      <th>WKSWORK</th>\n",
       "      <th>YEAR</th>\n",
       "      <th>WAGE</th>\n",
       "    </tr>\n",
       "  </thead>\n",
       "  <tbody>\n",
       "    <tr>\n",
       "      <th>99760</th>\n",
       "      <td>30</td>\n",
       "      <td>Private</td>\n",
       "      <td>45</td>\n",
       "      <td>2</td>\n",
       "      <td>Bachelors degree(BA AB BS)</td>\n",
       "      <td>0</td>\n",
       "      <td>Not in universe</td>\n",
       "      <td>Married-civilian spouse present</td>\n",
       "      <td>Other professional services</td>\n",
       "      <td>Executive admin and managerial</td>\n",
       "      <td>...</td>\n",
       "      <td>United-States</td>\n",
       "      <td>United-States</td>\n",
       "      <td>United-States</td>\n",
       "      <td>Native- Born in the United States</td>\n",
       "      <td>0</td>\n",
       "      <td>Not in universe</td>\n",
       "      <td>2</td>\n",
       "      <td>52</td>\n",
       "      <td>95</td>\n",
       "      <td>- 50000.</td>\n",
       "    </tr>\n",
       "    <tr>\n",
       "      <th>99761</th>\n",
       "      <td>67</td>\n",
       "      <td>Not in universe</td>\n",
       "      <td>0</td>\n",
       "      <td>0</td>\n",
       "      <td>9th grade</td>\n",
       "      <td>0</td>\n",
       "      <td>Not in universe</td>\n",
       "      <td>Married-civilian spouse present</td>\n",
       "      <td>Not in universe or children</td>\n",
       "      <td>Not in universe</td>\n",
       "      <td>...</td>\n",
       "      <td>United-States</td>\n",
       "      <td>United-States</td>\n",
       "      <td>United-States</td>\n",
       "      <td>Native- Born in the United States</td>\n",
       "      <td>0</td>\n",
       "      <td>Not in universe</td>\n",
       "      <td>2</td>\n",
       "      <td>0</td>\n",
       "      <td>94</td>\n",
       "      <td>- 50000.</td>\n",
       "    </tr>\n",
       "  </tbody>\n",
       "</table>\n",
       "<p>2 rows × 42 columns</p>\n",
       "</div>"
      ],
      "text/plain": [
       "       AAGE           ACLSWKR  ADTIND  ADTOCC                         AHGA  \\\n",
       "99760    30           Private      45       2   Bachelors degree(BA AB BS)   \n",
       "99761    67   Not in universe       0       0                    9th grade   \n",
       "\n",
       "       AHRSPAY            AHSCOL                           AMARITL  \\\n",
       "99760        0   Not in universe   Married-civilian spouse present   \n",
       "99761        0   Not in universe   Married-civilian spouse present   \n",
       "\n",
       "                             AMJIND                           AMJOCC  \\\n",
       "99760   Other professional services   Executive admin and managerial   \n",
       "99761   Not in universe or children                  Not in universe   \n",
       "\n",
       "         ...            PEFNTVTY        PEMNTVTY        PENATVTY  \\\n",
       "99760    ...       United-States   United-States   United-States   \n",
       "99761    ...       United-States   United-States   United-States   \n",
       "\n",
       "                                 PRCITSHP SEOTR            VETQVA  VETYN  \\\n",
       "99760   Native- Born in the United States     0   Not in universe      2   \n",
       "99761   Native- Born in the United States     0   Not in universe      2   \n",
       "\n",
       "       WKSWORK  YEAR       WAGE  \n",
       "99760       52    95   - 50000.  \n",
       "99761        0    94   - 50000.  \n",
       "\n",
       "[2 rows x 42 columns]"
      ]
     },
     "execution_count": 8,
     "metadata": {},
     "output_type": "execute_result"
    }
   ],
   "source": [
    "Test_Data_Set.tail(2)"
   ]
  },
  {
   "cell_type": "code",
   "execution_count": 9,
   "metadata": {
    "collapsed": false
   },
   "outputs": [],
   "source": [
    "#remove the unwanted information for classification\n",
    "\n",
    "Train_Data_Set.drop(['MARSUPWT', 'MIGMTR1','GRINREG', 'GRINST','AUNMEM','HHDFMX', 'HHDREL','FILESTAT',\n",
    "                     'PEFNTVTY', 'PEMNTVTY', 'PENATVTY','AREORGN','ADTIND', 'ADTOCC','SEOTR','YEAR',\n",
    "                     'MIGMTR3', 'MIGMTR4', 'MIGSAME', 'MIGSUN','VETQVA', 'VETYN','AUNTYPE'], axis=1, inplace=True)\n",
    "Test_Data_Set.drop(['MARSUPWT', 'MIGMTR1', 'MIGMTR3', 'GRINREG', 'GRINST','AUNMEM','HHDFMX', 'HHDREL','FILESTAT',\n",
    "                    'PEFNTVTY', 'PEMNTVTY', 'PENATVTY','AREORGN','ADTIND', 'ADTOCC','SEOTR','YEAR',\n",
    "                    'MIGMTR4', 'MIGSAME', 'MIGSUN','VETQVA', 'VETYN','AUNTYPE'], axis=1, inplace=True)"
   ]
  },
  {
   "cell_type": "code",
   "execution_count": 10,
   "metadata": {
    "collapsed": false
   },
   "outputs": [
    {
     "data": {
      "text/plain": [
       "['AAGE',\n",
       " 'ACLSWKR',\n",
       " 'AHGA',\n",
       " 'AHRSPAY',\n",
       " 'AHSCOL',\n",
       " 'AMARITL',\n",
       " 'AMJIND',\n",
       " 'AMJOCC',\n",
       " 'ARACE',\n",
       " 'ASEX',\n",
       " 'AWKSTAT',\n",
       " 'CAPGAIN',\n",
       " 'CAPLOSS',\n",
       " 'DIVVAL',\n",
       " 'NOEMP',\n",
       " 'PARENT',\n",
       " 'PRCITSHP',\n",
       " 'WKSWORK',\n",
       " 'WAGE']"
      ]
     },
     "execution_count": 10,
     "metadata": {},
     "output_type": "execute_result"
    }
   ],
   "source": [
    "list(Test_Data_Set)"
   ]
  },
  {
   "cell_type": "code",
   "execution_count": 17,
   "metadata": {
    "collapsed": false
   },
   "outputs": [],
   "source": [
    "Train_Data_Set.dtypes\n",
    "Train_Data_Set.to_csv('./US_Census_Data/Train_Data_Set.csv')\n",
    "Test_Data_Set.to_csv('./US_Census_Data/Test_Data_Set.csv')"
   ]
  },
  {
   "cell_type": "code",
   "execution_count": 18,
   "metadata": {
    "collapsed": false
   },
   "outputs": [],
   "source": [
    "def annual_wage(df):\n",
    "    wage = []\n",
    "    for w in df['WAGE']:\n",
    "        if w == ' - 50000.':\n",
    "            wage.append(0)\n",
    "        else:\n",
    "            wage.append(1)\n",
    "    return wage\n",
    "\n"
   ]
  },
  {
   "cell_type": "code",
   "execution_count": 19,
   "metadata": {
    "collapsed": true
   },
   "outputs": [],
   "source": [
    "Test_Data_Set.insert(0, 'WAGE_ANN', int)\n",
    "Train_Data_Set.insert(0, 'WAGE_ANN', int)"
   ]
  },
  {
   "cell_type": "code",
   "execution_count": 20,
   "metadata": {
    "collapsed": false
   },
   "outputs": [],
   "source": [
    "Train_Data_Set['WAGE_ANN'] = annual_wage(Train_Data_Set)\n",
    "Test_Data_Set['WAGE_ANN'] = annual_wage(Test_Data_Set)\n"
   ]
  },
  {
   "cell_type": "code",
   "execution_count": 21,
   "metadata": {
    "collapsed": true
   },
   "outputs": [],
   "source": [
    "\n",
    "Train_Data_Set.drop(['WAGE'], axis=1, inplace=True)\n",
    "Test_Data_Set.drop(['WAGE'], axis=1, inplace=True)"
   ]
  },
  {
   "cell_type": "code",
   "execution_count": 22,
   "metadata": {
    "collapsed": false
   },
   "outputs": [],
   "source": [
    "def dummy_variables(df):\n",
    "    df_type = df.dtypes\n",
    "    for col in df_type.keys():\n",
    "        if df_type[col] == 'object':\n",
    "            df = pd.concat([df, pd.get_dummies(df[col]).rename(columns=lambda x: col + '_' + str(x))], axis=1)\n",
    "            df.drop([col], axis=1, inplace=True)\n",
    "    return df\n",
    "\n",
    "trainset_ = dummy_variables(Train_Data_Set)\n",
    "testset_ = dummy_variables(Test_Data_Set)"
   ]
  },
  {
   "cell_type": "code",
   "execution_count": 23,
   "metadata": {
    "collapsed": true
   },
   "outputs": [],
   "source": [
    "X = trainset_.iloc[:,1:]\n",
    "Y = trainset_['WAGE_ANN']"
   ]
  },
  {
   "cell_type": "code",
   "execution_count": 24,
   "metadata": {
    "collapsed": false
   },
   "outputs": [],
   "source": [
    "X_train, X_val, Y_train, Y_val = model_selection.train_test_split(X, Y, \\\n",
    "                                                                  test_size=0.20, random_state=100)"
   ]
  },
  {
   "cell_type": "code",
   "execution_count": 25,
   "metadata": {
    "collapsed": false
   },
   "outputs": [
    {
     "data": {
      "text/plain": [
       "LogisticRegressionCV(Cs=10, class_weight=None, cv=None, dual=False,\n",
       "           fit_intercept=True, intercept_scaling=1.0, max_iter=100,\n",
       "           multi_class='ovr', n_jobs=1, penalty='l2', random_state=None,\n",
       "           refit=True, scoring=None, solver='lbfgs', tol=0.0001, verbose=0)"
      ]
     },
     "execution_count": 25,
     "metadata": {},
     "output_type": "execute_result"
    }
   ],
   "source": [
    "logregCV = linear_model.LogisticRegressionCV()\n",
    "logregCV.fit(X_train, Y_train)"
   ]
  },
  {
   "cell_type": "code",
   "execution_count": 26,
   "metadata": {
    "collapsed": true
   },
   "outputs": [],
   "source": [
    "Y_pred = logregCV.predict(X_val)"
   ]
  },
  {
   "cell_type": "code",
   "execution_count": 27,
   "metadata": {
    "collapsed": false
   },
   "outputs": [
    {
     "name": "stdout",
     "output_type": "stream",
     "text": [
      "Accuracy score : 0.951\n"
     ]
    }
   ],
   "source": [
    "print ('Accuracy score : %.3f' %(logregCV.score(X_val, Y_val)))\n"
   ]
  }
 ],
 "metadata": {
  "kernelspec": {
   "display_name": "Python 3",
   "language": "python",
   "name": "python3"
  },
  "language_info": {
   "codemirror_mode": {
    "name": "ipython",
    "version": 3
   },
   "file_extension": ".py",
   "mimetype": "text/x-python",
   "name": "python",
   "nbconvert_exporter": "python",
   "pygments_lexer": "ipython3",
   "version": "3.5.3"
  }
 },
 "nbformat": 4,
 "nbformat_minor": 2
}
